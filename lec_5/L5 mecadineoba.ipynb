{
 "cells": [
  {
   "cell_type": "code",
   "execution_count": 1,
   "id": "4b2863ba-479b-4926-922f-2a32b5d9a2ef",
   "metadata": {},
   "outputs": [],
   "source": [
    "import numpy as np\n",
    "import pandas as pd\n",
    "import matplotlib.pyplot as plt\n",
    "import seaborn as sns\n",
    "import warnings\n",
    "\n",
    "from scipy.stats import norm"
   ]
  },
  {
   "cell_type": "code",
   "execution_count": 2,
   "id": "d19366d8-09d5-4e31-b4f0-ac1fe66067cd",
   "metadata": {},
   "outputs": [
    {
     "data": {
      "text/html": [
       "<div>\n",
       "<style scoped>\n",
       "    .dataframe tbody tr th:only-of-type {\n",
       "        vertical-align: middle;\n",
       "    }\n",
       "\n",
       "    .dataframe tbody tr th {\n",
       "        vertical-align: top;\n",
       "    }\n",
       "\n",
       "    .dataframe thead th {\n",
       "        text-align: right;\n",
       "    }\n",
       "</style>\n",
       "<table border=\"1\" class=\"dataframe\">\n",
       "  <thead>\n",
       "    <tr style=\"text-align: right;\">\n",
       "      <th></th>\n",
       "      <th>age</th>\n",
       "      <th>sex</th>\n",
       "      <th>bmi</th>\n",
       "      <th>children</th>\n",
       "      <th>smoker</th>\n",
       "      <th>region</th>\n",
       "      <th>charges</th>\n",
       "    </tr>\n",
       "  </thead>\n",
       "  <tbody>\n",
       "    <tr>\n",
       "      <th>0</th>\n",
       "      <td>19</td>\n",
       "      <td>female</td>\n",
       "      <td>27.900</td>\n",
       "      <td>0</td>\n",
       "      <td>yes</td>\n",
       "      <td>southwest</td>\n",
       "      <td>16884.92400</td>\n",
       "    </tr>\n",
       "    <tr>\n",
       "      <th>1</th>\n",
       "      <td>18</td>\n",
       "      <td>male</td>\n",
       "      <td>33.770</td>\n",
       "      <td>1</td>\n",
       "      <td>no</td>\n",
       "      <td>southeast</td>\n",
       "      <td>1725.55230</td>\n",
       "    </tr>\n",
       "    <tr>\n",
       "      <th>2</th>\n",
       "      <td>28</td>\n",
       "      <td>male</td>\n",
       "      <td>33.000</td>\n",
       "      <td>3</td>\n",
       "      <td>no</td>\n",
       "      <td>southeast</td>\n",
       "      <td>4449.46200</td>\n",
       "    </tr>\n",
       "    <tr>\n",
       "      <th>3</th>\n",
       "      <td>33</td>\n",
       "      <td>male</td>\n",
       "      <td>22.705</td>\n",
       "      <td>0</td>\n",
       "      <td>no</td>\n",
       "      <td>northwest</td>\n",
       "      <td>21984.47061</td>\n",
       "    </tr>\n",
       "    <tr>\n",
       "      <th>4</th>\n",
       "      <td>32</td>\n",
       "      <td>male</td>\n",
       "      <td>28.880</td>\n",
       "      <td>0</td>\n",
       "      <td>no</td>\n",
       "      <td>northwest</td>\n",
       "      <td>3866.85520</td>\n",
       "    </tr>\n",
       "  </tbody>\n",
       "</table>\n",
       "</div>"
      ],
      "text/plain": [
       "   age     sex     bmi  children smoker     region      charges\n",
       "0   19  female  27.900         0    yes  southwest  16884.92400\n",
       "1   18    male  33.770         1     no  southeast   1725.55230\n",
       "2   28    male  33.000         3     no  southeast   4449.46200\n",
       "3   33    male  22.705         0     no  northwest  21984.47061\n",
       "4   32    male  28.880         0     no  northwest   3866.85520"
      ]
     },
     "execution_count": 2,
     "metadata": {},
     "output_type": "execute_result"
    }
   ],
   "source": [
    "df = pd.read_csv(\"insurance.csv\")\n",
    "df.head()"
   ]
  },
  {
   "cell_type": "code",
   "execution_count": 3,
   "id": "a9cb0ffe-6d19-4d84-85a4-d9196f96edb4",
   "metadata": {},
   "outputs": [
    {
     "data": {
      "text/html": [
       "<div>\n",
       "<style scoped>\n",
       "    .dataframe tbody tr th:only-of-type {\n",
       "        vertical-align: middle;\n",
       "    }\n",
       "\n",
       "    .dataframe tbody tr th {\n",
       "        vertical-align: top;\n",
       "    }\n",
       "\n",
       "    .dataframe thead th {\n",
       "        text-align: right;\n",
       "    }\n",
       "</style>\n",
       "<table border=\"1\" class=\"dataframe\">\n",
       "  <thead>\n",
       "    <tr style=\"text-align: right;\">\n",
       "      <th></th>\n",
       "      <th>count</th>\n",
       "      <th>mean</th>\n",
       "      <th>std</th>\n",
       "      <th>min</th>\n",
       "      <th>25%</th>\n",
       "      <th>50%</th>\n",
       "      <th>75%</th>\n",
       "      <th>max</th>\n",
       "    </tr>\n",
       "  </thead>\n",
       "  <tbody>\n",
       "    <tr>\n",
       "      <th>age</th>\n",
       "      <td>1338.0</td>\n",
       "      <td>39.207025</td>\n",
       "      <td>14.049960</td>\n",
       "      <td>18.0000</td>\n",
       "      <td>27.00000</td>\n",
       "      <td>39.000</td>\n",
       "      <td>51.000000</td>\n",
       "      <td>64.00000</td>\n",
       "    </tr>\n",
       "    <tr>\n",
       "      <th>bmi</th>\n",
       "      <td>1338.0</td>\n",
       "      <td>30.663397</td>\n",
       "      <td>6.098187</td>\n",
       "      <td>15.9600</td>\n",
       "      <td>26.29625</td>\n",
       "      <td>30.400</td>\n",
       "      <td>34.693750</td>\n",
       "      <td>53.13000</td>\n",
       "    </tr>\n",
       "    <tr>\n",
       "      <th>children</th>\n",
       "      <td>1338.0</td>\n",
       "      <td>1.094918</td>\n",
       "      <td>1.205493</td>\n",
       "      <td>0.0000</td>\n",
       "      <td>0.00000</td>\n",
       "      <td>1.000</td>\n",
       "      <td>2.000000</td>\n",
       "      <td>5.00000</td>\n",
       "    </tr>\n",
       "    <tr>\n",
       "      <th>charges</th>\n",
       "      <td>1338.0</td>\n",
       "      <td>13270.422265</td>\n",
       "      <td>12110.011237</td>\n",
       "      <td>1121.8739</td>\n",
       "      <td>4740.28715</td>\n",
       "      <td>9382.033</td>\n",
       "      <td>16639.912515</td>\n",
       "      <td>63770.42801</td>\n",
       "    </tr>\n",
       "  </tbody>\n",
       "</table>\n",
       "</div>"
      ],
      "text/plain": [
       "           count          mean           std        min         25%       50%  \\\n",
       "age       1338.0     39.207025     14.049960    18.0000    27.00000    39.000   \n",
       "bmi       1338.0     30.663397      6.098187    15.9600    26.29625    30.400   \n",
       "children  1338.0      1.094918      1.205493     0.0000     0.00000     1.000   \n",
       "charges   1338.0  13270.422265  12110.011237  1121.8739  4740.28715  9382.033   \n",
       "\n",
       "                   75%          max  \n",
       "age          51.000000     64.00000  \n",
       "bmi          34.693750     53.13000  \n",
       "children      2.000000      5.00000  \n",
       "charges   16639.912515  63770.42801  "
      ]
     },
     "execution_count": 3,
     "metadata": {},
     "output_type": "execute_result"
    }
   ],
   "source": [
    "df.describe().transpose()"
   ]
  },
  {
   "cell_type": "code",
   "execution_count": 8,
   "id": "8a1c7b87-045e-48ff-a697-6feccd7c80f1",
   "metadata": {},
   "outputs": [
    {
     "data": {
      "text/plain": [
       "<Axes: xlabel='age'>"
      ]
     },
     "execution_count": 8,
     "metadata": {},
     "output_type": "execute_result"
    },
    {
     "data": {
      "image/png": "[encoded data removed]",
      "text/plain": [
       "<Figure size 1000x700 with 1 Axes>"
      ]
     },
     "metadata": {},
     "output_type": "display_data"
    }
   ],
   "source": [
    "import matplotlib.pyplot as plt\n",
    "\n",
    "figure = plt.figure(figsize = (10, 7))\n",
    "\n",
    "sns.boxplot(x = df[\"age\"])\n",
    "# sns.boxplot(data = df, x=\"age\")"
   ]
  },
  {
   "cell_type": "code",
   "execution_count": 10,
   "id": "6b264688-271d-4850-8c72-fd5b280a565e",
   "metadata": {},
   "outputs": [
    {
     "data": {
      "image/png": "[encoded data removed]",
      "text/plain": [
       "<Figure size 700x400 with 1 Axes>"
      ]
     },
     "metadata": {},
     "output_type": "display_data"
    }
   ],
   "source": [
    "# Import libraries\n",
    "import matplotlib.pyplot as plt\n",
    "import numpy as np\n",
    " \n",
    "# Creating dataset\n",
    "np.random.seed(10)\n",
    " \n",
    "data_1 = np.random.normal(100, 10, 200)\n",
    "data_2 = np.random.normal(90, 20, 200)\n",
    "data_3 = np.random.normal(80, 30, 200)\n",
    "data_4 = np.random.normal(70, 40, 200)\n",
    "data = [data_1, data_2, data_3, data_4]\n",
    " \n",
    "fig = plt.figure(figsize =(7, 4))\n",
    " \n",
    "# Creating axes instance\n",
    "ax = fig.add_axes([0, 0, 1, 1])\n",
    " \n",
    "# Creating plot\n",
    "bp = ax.boxplot(data)\n",
    " \n",
    "# show plot\n",
    "plt.show()"
   ]
  },
  {
   "cell_type": "code",
   "execution_count": 26,
   "id": "a3711330-c3af-4cd4-b446-6d355443ae9f",
   "metadata": {},
   "outputs": [
    {
     "data": {
      "text/plain": [
       "46"
      ]
     },
     "execution_count": 26,
     "metadata": {},
     "output_type": "execute_result"
    }
   ],
   "source": [
    "np.ptp(df[\"age\"]) # გაბნევის დიაპაზონი"
   ]
  },
  {
   "cell_type": "markdown",
   "id": "d58145c4-0f32-42fa-982b-9b81fee5d0f6",
   "metadata": {},
   "source": [
    "**One sample t test**"
   ]
  },
  {
   "cell_type": "code",
   "execution_count": 11,
   "id": "489aa917-dbc3-47fd-a110-0f19a8422e6b",
   "metadata": {},
   "outputs": [],
   "source": [
    "from scipy.stats             import ttest_1samp,ttest_ind, wilcoxon\n",
    "from statsmodels.stats.power import ttest_power\n",
    "import matplotlib.pyplot     as     plt"
   ]
  },
  {
   "cell_type": "code",
   "execution_count": 12,
   "id": "d5f65b1b-7bd3-4fc1-bec8-f8977e025b30",
   "metadata": {},
   "outputs": [],
   "source": [
    "# pip install statsmodels"
   ]
  },
  {
   "cell_type": "code",
   "execution_count": 13,
   "id": "fc611091-f49a-4cff-bc39-77f966fe7572",
   "metadata": {},
   "outputs": [],
   "source": [
    "temperature = np.array([98.56, 98.66, 97.54, 98.71, 99.22, 99.49, 98.14, 98.84,\\\n",
    "                         99.28, 98.48, 98.88, 97.29, 98.88, 99.07, 98.81, 99.49,\\\n",
    "                         98.57, 97.98, 97.75, 97.69, 99.28, 98.52, 98.82, 98.81, 98.22]) # n=25. მოცემულია 17 წელს ქვემოთ ბავშვების ტემპერატურა     "
   ]
  },
  {
   "cell_type": "code",
   "execution_count": 14,
   "id": "a9ae300e-1aec-4b0a-bd9a-5e017af374fa",
   "metadata": {},
   "outputs": [
    {
     "name": "stdout",
     "output_type": "stream",
     "text": [
      "Mean is 98.6 Sd is 0.6\n"
     ]
    }
   ],
   "source": [
    "print('Mean is %2.1f Sd is %2.1f' % (temperature.mean(), np.std(temperature,ddof = 1)))"
   ]
  },
  {
   "cell_type": "code",
   "execution_count": 15,
   "id": "15436278-7d6a-4760-877a-bf4731faee03",
   "metadata": {},
   "outputs": [],
   "source": [
    "# ვტესტავთ: 17 წლეს ქვემოთ ბავშვების სხეულის საშუალო ტემპერატურა მეტია 98.6 ფარენგეიტზე\n",
    "# ნულოვანი: 17 წლეს ქვემოთ ბავშვების ტემპერატურის საშუალო (mean) ნაკლები  ან ტოლი 98.6 ფარენგეიტზე\n",
    "# ალტერნატიული: 17 წელს ქვემოთ ბავშვების ტემპერატურის საშუალო (mean) მეტია 98.6 ფარენგეიტზე"
   ]
  },
  {
   "cell_type": "code",
   "execution_count": 16,
   "id": "65fc8a0b-0dd8-4909-a446-b785c63fc799",
   "metadata": {},
   "outputs": [
    {
     "name": "stdout",
     "output_type": "stream",
     "text": [
      "-2.507394613271926 0.019333111622388342\n"
     ]
    }
   ],
   "source": [
    "t_statistic, p_value = ttest_1samp(temperature, 98.9)\n",
    "print(t_statistic, p_value)"
   ]
  },
  {
   "cell_type": "code",
   "execution_count": 18,
   "id": "8203975a-d4c7-4254-bd90-75377eb8a027",
   "metadata": {},
   "outputs": [],
   "source": [
    "# p_value = 0.019333111622388342   <= 0.05   ----> დარეჯექთა ნულოვანი ჰიპპთეზე  ----> მივიღეთ ალტერნატიული ჰიპოთეზა\n",
    "# დასკვნა:  17 წლეს ქვემოთ ბავშვების სხეულის საშუალო ტემპერატურა მეტია 98.6 ფარენგეიტზე"
   ]
  },
  {
   "cell_type": "markdown",
   "id": "c7a45129-5b5f-4c64-a288-489f344106fe",
   "metadata": {},
   "source": [
    "**Two sample T-Test**"
   ]
  },
  {
   "cell_type": "code",
   "execution_count": 20,
   "id": "7fc2324b-f8fd-48df-9516-56fff029f089",
   "metadata": {},
   "outputs": [
    {
     "data": {
      "text/plain": [
       "TtestResult(statistic=-0.6337397070250238, pvalue=0.5300471010405257, df=38.0)"
      ]
     },
     "execution_count": 20,
     "metadata": {},
     "output_type": "execute_result"
    }
   ],
   "source": [
    "# Creating data groups\n",
    "data_group1 = np.array([14, 15, 15, 16, 13, 8, 14, \n",
    "                        17, 16, 14, 19, 20, 21, 15,\n",
    "                        15, 16, 16, 13, 14, 12]) # კლასში სიმაღლეები n=15\n",
    " \n",
    "data_group2 = np.array([15, 17, 14, 17, 14, 8, 12, \n",
    "                        19, 19, 14, 17, 22, 24, 16, \n",
    "                        13, 16, 13, 18, 15, 13]) # კლასში სიმაღლეები n=15\n",
    " \n",
    "# Perform the two sample t-test with equal variances\n",
    "ttest_ind(a=data_group1, b=data_group2, equal_var=True)"
   ]
  },
  {
   "cell_type": "code",
   "execution_count": null,
   "id": "b9b383f5-79ff-4604-9a43-887302f9f3c4",
   "metadata": {},
   "outputs": [],
   "source": [
    "# მოცემულია 2 ცალ კლასში 15-15 ბავშვის სიმაღლე.  \n",
    "# ვტესტავთ: 2 სხვადასხვა კლასში სიმაღლეების საშუალო თუა ტოლი\n",
    "# ნულოვანი: data_group1 და data_group2 კლასში სიმაღლეები ტოლი არაა\n",
    "# ალტერნატიული: data_group1 და data_group2 კლასში სიმაღლეები ტოლია"
   ]
  },
  {
   "cell_type": "code",
   "execution_count": 27,
   "id": "31ac2140-8a4e-4f3f-b01b-cf3e03e4ea9a",
   "metadata": {},
   "outputs": [],
   "source": [
    "# pvalue=0.5300471010405257   >0.05   შესაბამისად ნალ ჰიპოთეზას ვერ ვარეჯექთებთ, შესაბამისად \n",
    "# ვერ დავასკვნით, რომ  2 სხვადასხვა კლასში სიმაღლეების საშუალო თუა ტოლი"
   ]
  },
  {
   "cell_type": "code",
   "execution_count": null,
   "id": "fe8da8b3-47ee-4afb-b358-de80949f68ec",
   "metadata": {},
   "outputs": [],
   "source": []
  }
 ],
 "metadata": {
  "kernelspec": {
   "display_name": "Python 3 (ipykernel)",
   "language": "python",
   "name": "python3"
  },
  "language_info": {
   "codemirror_mode": {
    "name": "ipython",
    "version": 3
   },
   "file_extension": ".py",
   "mimetype": "text/x-python",
   "name": "python",
   "nbconvert_exporter": "python",
   "pygments_lexer": "ipython3",
   "version": "3.11.5"
  }
 },
 "nbformat": 4,
 "nbformat_minor": 5
}
